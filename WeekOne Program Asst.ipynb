{
 "cells": [
  {
   "cell_type": "code",
   "execution_count": 1,
   "id": "a22f5f32",
   "metadata": {},
   "outputs": [
    {
     "name": "stdout",
     "output_type": "stream",
     "text": [
      "There are 3600 seconds per hour\n",
      "There are 86400 seconds in a day\n",
      "24.0 = quotient of floating point division method\n",
      "24 = quotient of integer division method\n"
     ]
    }
   ],
   "source": [
    "# 3.1\n",
    "secsInMinute = 60\n",
    "minutesInHour = 60\n",
    "seconds_per_hour = (minutesInHour * secsInMinute)\n",
    "print(\"There are\", seconds_per_hour, \"seconds per hour\")\n",
    "\n",
    "seconds_per_day = (seconds_per_hour * 24)\n",
    "print(\"There are\",seconds_per_day, \"seconds in a day\")\n",
    "\n",
    "fltptCheck = (seconds_per_day / seconds_per_hour)\n",
    "print (fltptCheck, \"= quotient of floating point division method\")\n",
    "\n",
    "intCheck = (seconds_per_day // seconds_per_hour)\n",
    "print(intCheck, \"= quotient of integer division method\")\n"
   ]
  },
  {
   "cell_type": "code",
   "execution_count": null,
   "id": "adb32bd9",
   "metadata": {},
   "outputs": [],
   "source": []
  }
 ],
 "metadata": {
  "kernelspec": {
   "display_name": "Python 3 (ipykernel)",
   "language": "python",
   "name": "python3"
  },
  "language_info": {
   "codemirror_mode": {
    "name": "ipython",
    "version": 3
   },
   "file_extension": ".py",
   "mimetype": "text/x-python",
   "name": "python",
   "nbconvert_exporter": "python",
   "pygments_lexer": "ipython3",
   "version": "3.9.13"
  }
 },
 "nbformat": 4,
 "nbformat_minor": 5
}
